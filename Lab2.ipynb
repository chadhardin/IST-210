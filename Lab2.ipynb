{
  "nbformat": 4,
  "nbformat_minor": 0,
  "metadata": {
    "colab": {
      "name": "Lab2.ipynb",
      "provenance": [],
      "authorship_tag": "ABX9TyPEK/NV/ZVWUr62RrVzM0OQ",
      "include_colab_link": true
    },
    "kernelspec": {
      "name": "python3",
      "display_name": "Python 3"
    }
  },
  "cells": [
    {
      "cell_type": "markdown",
      "metadata": {
        "id": "view-in-github",
        "colab_type": "text"
      },
      "source": [
        "<a href=\"https://colab.research.google.com/github/chadhardin/IST-210/blob/master/Lab2.ipynb\" target=\"_parent\"><img src=\"https://colab.research.google.com/assets/colab-badge.svg\" alt=\"Open In Colab\"/></a>"
      ]
    },
    {
      "cell_type": "markdown",
      "metadata": {
        "id": "Ht6No6xW6evJ"
      },
      "source": [
        "![Pet Store Diagram](https://raw.githubusercontent.com/chadhardin/IST-210/master/Lab2/PetStoreDiagram.png)"
      ]
    },
    {
      "cell_type": "markdown",
      "metadata": {
        "id": "qgxUJ0Dv6nTJ"
      },
      "source": [
        "Included above is a picture of my E-R diagram that I created for the pet store.  I created 6 tables including: Food Transaction, Pet Transaction, Pet, Enclosure, Loyalty Program, and Food.  The connection between Pet and Enclosure was the first I created and it is important for the pet to have a specific enclosure location.  Pet is also connected to Pet Transactions and Loyalty Program, the connection to the Pet Transactions is important because it allows for the customer to see their pets chipNumber on the receipt.  The connection to the Loyalty Program is important because it allows the customer to know exactly what pets they have and the recommended food that is connected to the type of pet.  Which is why Loyalty Program is connected to Food because when someone buy a pet or food previously it will be connected to their account, so each time they go to the store they can buy the same food.  Loyalty Program is connected to both tables for transactions because it was important for the customer to see previous visits to the store as well as the ability to gain points from spending money.  Finally, Food is connected to Food Transactions because the itemID needs to be on the receipt.  "
      ]
    }
  ]
}