{
  "nbformat": 4,
  "nbformat_minor": 0,
  "metadata": {
    "colab": {
      "name": "Lab1.ipynb",
      "provenance": [],
      "collapsed_sections": [],
      "authorship_tag": "ABX9TyOpMsW6NctyAUp1/Q1vGC10",
      "include_colab_link": true
    },
    "kernelspec": {
      "name": "python3",
      "display_name": "Python 3"
    }
  },
  "cells": [
    {
      "cell_type": "markdown",
      "metadata": {
        "id": "view-in-github",
        "colab_type": "text"
      },
      "source": [
        "<a href=\"https://colab.research.google.com/github/chadhardin/IST-210/blob/master/Lab1.ipynb\" target=\"_parent\"><img src=\"https://colab.research.google.com/assets/colab-badge.svg\" alt=\"Open In Colab\"/></a>"
      ]
    },
    {
      "cell_type": "markdown",
      "metadata": {
        "id": "2bRdQlbpfsW6",
        "colab_type": "text"
      },
      "source": [
        "## Do you like using Jupyter Notebooks?"
      ]
    },
    {
      "cell_type": "markdown",
      "metadata": {
        "id": "vRVi3rRWf3Ow",
        "colab_type": "text"
      },
      "source": [
        "Yes, I do like using Jupyter Notebooks because it allows me to use both code and text in a fast and intuitive way.  Also, since it is connected with google, sharing and working with other people is very easy."
      ]
    },
    {
      "cell_type": "markdown",
      "metadata": {
        "id": "odGgmtqugebU",
        "colab_type": "text"
      },
      "source": [
        "## What do you want to learn more about in Jupyter Notebooks?"
      ]
    },
    {
      "cell_type": "markdown",
      "metadata": {
        "id": "VgNy9xEUggX-",
        "colab_type": "text"
      },
      "source": [
        "I want to learn how to be able to easily connect my Jupyter Notebook to my google drive.  This way I can write code and text that I can utilize my google drive in order to make larger projects."
      ]
    },
    {
      "cell_type": "markdown",
      "metadata": {
        "id": "wVHssRBNgj9Y",
        "colab_type": "text"
      },
      "source": [
        "![Cool Sunset on beach](https://raw.githubusercontent.com/chadhardin/IST-210/master/Images/Cool%20Sunset.jpg)"
      ]
    }
  ]
}