{
  "nbformat": 4,
  "nbformat_minor": 0,
  "metadata": {
    "colab": {
      "name": "GroupAssignment3.ipynb",
      "provenance": [],
      "collapsed_sections": [],
      "include_colab_link": true
    },
    "kernelspec": {
      "name": "python3",
      "display_name": "Python 3"
    }
  },
  "cells": [
    {
      "cell_type": "markdown",
      "metadata": {
        "id": "view-in-github",
        "colab_type": "text"
      },
      "source": [
        "<a href=\"https://colab.research.google.com/github/chadhardin/IST-210/blob/master/GroupAssignment3.ipynb\" target=\"_parent\"><img src=\"https://colab.research.google.com/assets/colab-badge.svg\" alt=\"Open In Colab\"/></a>"
      ]
    },
    {
      "cell_type": "markdown",
      "metadata": {
        "id": "dRm_dfkXBj2r"
      },
      "source": [
        "![ER Diagram](https://raw.githubusercontent.com/jdhenry/More-testing/master/Images/Untitled%20Diagram.png)"
      ]
    },
    {
      "cell_type": "code",
      "metadata": {
        "colab": {
          "base_uri": "https://localhost:8080/",
          "height": 35
        },
        "id": "epyVwm2OD3NE",
        "outputId": "d20f9341-8cae-492c-e38f-d2c135ca445b"
      },
      "source": [
        "%load_ext sql\n",
        "%sql sqlite:///baconry.db"
      ],
      "execution_count": null,
      "outputs": [
        {
          "output_type": "execute_result",
          "data": {
            "application/vnd.google.colaboratory.intrinsic+json": {
              "type": "string"
            },
            "text/plain": [
              "'Connected: @baconry.db'"
            ]
          },
          "metadata": {
            "tags": []
          },
          "execution_count": 1
        }
      ]
    },
    {
      "cell_type": "code",
      "metadata": {
        "colab": {
          "base_uri": "https://localhost:8080/"
        },
        "id": "dmatZjiVEBTC",
        "outputId": "37528393-d0b8-412d-9e2f-f9fad5eb7eec"
      },
      "source": [
        "%%sql  \n",
        "DROP TABLE IF EXISTS Employee;\n",
        "create table Employee (EmployeeID text PRIMARY KEY, FirstName text, LastName text, StoreNumber text);\n",
        "\n",
        "DROP table IF EXISTS Store;\n",
        "create table Store (StoreNumber text PRIMARY KEY, PhoneNumber text, StreetAddress text, Website text);\n",
        "\n",
        "DROP table IF EXISTS Menu;\n",
        "create table Menu (StoreNumber text, ItemID text,\n",
        "PRIMARY KEY(StoreNumber,ItemID));\n",
        "\n",
        "DROP table IF EXISTS Items;\n",
        "create table Items (ItemID text PRIMARY KEY, name text, AmountInStock int, price real);\n",
        "\n",
        "DROP table IF EXISTS ItemsPurchased;\n",
        "create table ItemsPurchased (PurchaseNumber text, ItemID text,\n",
        "PRIMARY KEY(PurchaseNumber, ItemID));\n",
        "\n",
        "DROP table IF EXISTS AllergyInfo;\n",
        "create table AllergyInfo (ItemID text, AllergyID text, \n",
        "PRIMARY KEY(ItemID,AllergyID));\n",
        "\n",
        "DROP table IF EXISTS Allergy;\n",
        "create table Allergy (AllergyID text PRIMARY KEY, Type text, Severity text);\n",
        "\n",
        "DROP table IF EXISTS Purchases;\n",
        "create table Purchases (PurchaseNumber text PRIMARY KEY, TotalCost real, LoyaltyCard text, Date text);\n",
        "\n",
        "DROP table IF EXISTS Loyalty;\n",
        "create table Loyalty (CardID text PRIMARY KEY, FirstName text, LastName text, PhoneNumber text, Points int, DoB text, Email text);"
      ],
      "execution_count": null,
      "outputs": [
        {
          "output_type": "stream",
          "text": [
            " * sqlite:///baconry.db\n",
            "Done.\n",
            "Done.\n",
            "Done.\n",
            "Done.\n",
            "Done.\n",
            "Done.\n",
            "Done.\n",
            "Done.\n",
            "Done.\n",
            "Done.\n",
            "Done.\n",
            "Done.\n",
            "Done.\n",
            "Done.\n",
            "Done.\n",
            "Done.\n",
            "Done.\n",
            "Done.\n"
          ],
          "name": "stdout"
        },
        {
          "output_type": "execute_result",
          "data": {
            "text/plain": [
              "[]"
            ]
          },
          "metadata": {
            "tags": []
          },
          "execution_count": 2
        }
      ]
    },
    {
      "cell_type": "code",
      "metadata": {
        "id": "0IJUkiGxHE8V",
        "colab": {
          "base_uri": "https://localhost:8080/"
        },
        "outputId": "4be16657-0212-4acd-a175-76b453cb96b3"
      },
      "source": [
        "%%sql\n",
        "insert into Employee values('867534', 'Noah', 'Binder', '590');\n",
        "insert into Employee values('873264', 'Nico', 'Rovera', '568');\n",
        "insert into Employee values('835649', 'Jared', 'Gander', '590');\n",
        "insert into Employee values('890332', 'Sara', 'Usnick', '570');\n",
        "insert into Employee values('857463', 'Eric', 'Graybill', '570');\n",
        "insert into Employee values('859305', 'Justin', 'Johnson', '546');\n",
        "insert into Employee values('893853', 'Chad', 'McCarthy', '583');\n",
        "\n",
        "insert into Store values('590', '717-863-3271', '820 Meadow Lane', 'www.baconry.com/590');\n",
        "insert into Store values('568', '740-527-5490', '7329 Main Street', 'www.baconry.com/568');\n",
        "insert into Store values('570', '740-645-8788', '567 Fourth Street', 'www.baconry.com/570');\n",
        "insert into Store values('546', '717-321-4529', '746 Burrows Road', 'www.baconry.com/546');\n",
        "insert into Store values('583', '736-548-0987', '654 Second Street', 'www.baconry.com/583');\n",
        "\n",
        "insert into Menu values('590','346');\n",
        "insert into Menu values('590','627');\n",
        "insert into Menu values('590','478');\n",
        "insert into Menu values('590','221');\n",
        "insert into Menu values('568','346');\n",
        "insert into Menu values('568','627');\n",
        "insert into Menu values('568','945');\n",
        "insert into Menu values('568','478');\n",
        "insert into Menu values('568','221');\n",
        "insert into Menu values('570','346');\n",
        "insert into Menu values('570','627');\n",
        "insert into Menu values('570','945');\n",
        "insert into Menu values('570','221');\n",
        "insert into Menu values('546','627');\n",
        "insert into Menu values('546','945');\n",
        "insert into Menu values('546','478');\n",
        "insert into Menu values('546','221');\n",
        "insert into Menu values('583','346');\n",
        "insert into Menu values('583','627');\n",
        "insert into Menu values('583','945');\n",
        "insert into Menu values('583','478');\n",
        "insert into Menu values('583','221');\n",
        "\n",
        "\n",
        "insert into Items values('346', 'Bacon Cupcakes', 48, 2.50);\n",
        "insert into Items values('627', 'Bacon Cookies', 73, 1.25);\n",
        "insert into Items values('945', 'Bacon and Blueberry Pie', 12, 13.75);\n",
        "insert into Items values('478', 'Maple Bacon Doughnuts', 52, 3.00);\n",
        "insert into Items values('221', 'Bacon Peanut Butter Cookies', 75, 1.75);"
      ],
      "execution_count": null,
      "outputs": [
        {
          "output_type": "stream",
          "text": [
            " * sqlite:///baconry.db\n",
            "1 rows affected.\n",
            "1 rows affected.\n",
            "1 rows affected.\n",
            "1 rows affected.\n",
            "1 rows affected.\n",
            "1 rows affected.\n",
            "1 rows affected.\n",
            "1 rows affected.\n",
            "1 rows affected.\n",
            "1 rows affected.\n",
            "1 rows affected.\n",
            "1 rows affected.\n",
            "1 rows affected.\n",
            "1 rows affected.\n",
            "1 rows affected.\n",
            "1 rows affected.\n",
            "1 rows affected.\n",
            "1 rows affected.\n",
            "1 rows affected.\n",
            "1 rows affected.\n",
            "1 rows affected.\n",
            "1 rows affected.\n",
            "1 rows affected.\n",
            "1 rows affected.\n",
            "1 rows affected.\n",
            "1 rows affected.\n",
            "1 rows affected.\n",
            "1 rows affected.\n",
            "1 rows affected.\n",
            "1 rows affected.\n",
            "1 rows affected.\n",
            "1 rows affected.\n",
            "1 rows affected.\n",
            "1 rows affected.\n",
            "1 rows affected.\n",
            "1 rows affected.\n",
            "1 rows affected.\n",
            "1 rows affected.\n",
            "1 rows affected.\n"
          ],
          "name": "stdout"
        },
        {
          "output_type": "execute_result",
          "data": {
            "text/plain": [
              "[]"
            ]
          },
          "metadata": {
            "tags": []
          },
          "execution_count": 3
        }
      ]
    },
    {
      "cell_type": "code",
      "metadata": {
        "id": "dsJabHwrMBHN",
        "colab": {
          "base_uri": "https://localhost:8080/"
        },
        "outputId": "200a6926-d846-4a55-debe-589d8eff9486"
      },
      "source": [
        "%%sql\n",
        "insert into Allergy values('111','Gluten','Major');\n",
        "insert into Allergy values('112','Eggs','Minor');\n",
        "insert into Allergy values('115','Blueberry','Major');\n",
        "insert into Allergy values('119','Maple Syrup','Minor');\n",
        "insert into Allergy values('142','Peanuts','Major');\n",
        "\n",
        "insert into AllergyInfo values('346','111');\n",
        "insert into AllergyInfo values('346','112');\n",
        "insert into AllergyInfo values('627','112');\n",
        "insert into AllergyInfo values('945','112');\n",
        "insert into AllergyInfo values('945','115');\n",
        "insert into AllergyInfo values('478','111');\n",
        "insert into AllergyInfo values('478','112');\n",
        "insert into AllergyInfo values('221','112');\n",
        "insert into AllergyInfo values('221','142');\n",
        "\n",
        "insert into ItemsPurchased values('346','7643892643');\n",
        "insert into ItemsPurchased values('945','7643892643');\n",
        "insert into ItemsPurchased values('221','7643892643');\n",
        "insert into ItemsPurchased values('945','2304932930');\n",
        "insert into ItemsPurchased values('945','6423802192');\n",
        "insert into ItemsPurchased values('221','6423802192');\n",
        "insert into ItemsPurchased values('346','4234590324');\n",
        "insert into ItemsPurchased values('478','4234590324');\n",
        "insert into ItemsPurchased values('221','4234590324');\n",
        "insert into ItemsPurchased values('346','8549302175');\n",
        "insert into ItemsPurchased values('945','8549302175');\n",
        "insert into ItemsPurchased values('478','8549302175');\n",
        "\n",
        "\n",
        "insert into Purchases values('7643892643',18.00,'5418094','10/19/20');\n",
        "insert into Purchases values('2304932930',13.75,'3267294','10/19/20');\n",
        "insert into Purchases values('6423802192',15.5,'2950183','11/02/20');\n",
        "insert into Purchases values('4234590324',7.25,'3206758','05/08/20');\n",
        "insert into Purchases values('8549302175',19.25,'6780328','11/02/20');\n",
        "\n",
        "insert into Loyalty values('3206758','Rodrick','Hamilton','678-999-8212',1002,'12/18/73','rh2@squaremail.com');\n",
        "insert into Loyalty values('2950183','Amy','Squarsom','543-654-2749',72,'06/24/89','as92@squaremail.com');\n",
        "insert into Loyalty values('6780328','Stephven','Derson','543-128-6793',905,'03/02/99','82sd@squaremail.com');\n",
        "insert into Loyalty values('5418094','Ruby','Wort','543-152-6432',1720,'10/24/95','rw567@squaremail.com');\n",
        "insert into Loyalty values('3267294','Eric','Lorson','543-724-2358',542,'08/15/84','el12@squaremail.com');\n",
        "insert into Loyalty values('5418095','Lil','Renson','543-212-9123',5,'10/24/02','lr02@squaremail.com');\n",
        "insert into Loyalty values('3267295','Wobbert','Jackson','543-324-6358',7201,'08/15/84','wj59@squaremail.com');"
      ],
      "execution_count": null,
      "outputs": [
        {
          "output_type": "stream",
          "text": [
            " * sqlite:///baconry.db\n",
            "1 rows affected.\n",
            "1 rows affected.\n",
            "1 rows affected.\n",
            "1 rows affected.\n",
            "1 rows affected.\n",
            "1 rows affected.\n",
            "1 rows affected.\n",
            "1 rows affected.\n",
            "1 rows affected.\n",
            "1 rows affected.\n",
            "1 rows affected.\n",
            "1 rows affected.\n",
            "1 rows affected.\n",
            "1 rows affected.\n",
            "1 rows affected.\n",
            "1 rows affected.\n",
            "1 rows affected.\n",
            "1 rows affected.\n",
            "1 rows affected.\n",
            "1 rows affected.\n",
            "1 rows affected.\n",
            "1 rows affected.\n",
            "1 rows affected.\n",
            "1 rows affected.\n",
            "1 rows affected.\n",
            "1 rows affected.\n",
            "1 rows affected.\n",
            "1 rows affected.\n",
            "1 rows affected.\n",
            "1 rows affected.\n",
            "1 rows affected.\n",
            "1 rows affected.\n",
            "1 rows affected.\n",
            "1 rows affected.\n",
            "1 rows affected.\n",
            "1 rows affected.\n",
            "1 rows affected.\n",
            "1 rows affected.\n"
          ],
          "name": "stdout"
        },
        {
          "output_type": "execute_result",
          "data": {
            "text/plain": [
              "[]"
            ]
          },
          "metadata": {
            "tags": []
          },
          "execution_count": 4
        }
      ]
    },
    {
      "cell_type": "markdown",
      "metadata": {
        "id": "Jgu88dLMYETC"
      },
      "source": [
        "What was the total earned from purchases grouped by date?"
      ]
    },
    {
      "cell_type": "code",
      "metadata": {
        "colab": {
          "base_uri": "https://localhost:8080/",
          "height": 137
        },
        "id": "8G91TPZpIcIV",
        "outputId": "55270b9b-2d86-47f3-e854-e527929b8e91"
      },
      "source": [
        "%%sql \n",
        "\n",
        "SELECT SUM(TotalCost), Date FROM Purchases GROUP BY Date;\n"
      ],
      "execution_count": null,
      "outputs": [
        {
          "output_type": "stream",
          "text": [
            " * sqlite:///baconry.db\n",
            "Done.\n"
          ],
          "name": "stdout"
        },
        {
          "output_type": "execute_result",
          "data": {
            "text/html": [
              "<table>\n",
              "    <tr>\n",
              "        <th>SUM(TotalCost)</th>\n",
              "        <th>Date</th>\n",
              "    </tr>\n",
              "    <tr>\n",
              "        <td>7.25</td>\n",
              "        <td>05/08/20</td>\n",
              "    </tr>\n",
              "    <tr>\n",
              "        <td>31.75</td>\n",
              "        <td>10/19/20</td>\n",
              "    </tr>\n",
              "    <tr>\n",
              "        <td>34.75</td>\n",
              "        <td>11/02/20</td>\n",
              "    </tr>\n",
              "</table>"
            ],
            "text/plain": [
              "[(7.25, '05/08/20'), (31.75, '10/19/20'), (34.75, '11/02/20')]"
            ]
          },
          "metadata": {
            "tags": []
          },
          "execution_count": 5
        }
      ]
    },
    {
      "cell_type": "markdown",
      "metadata": {
        "id": "f5wU6n8lkAFZ"
      },
      "source": [
        "This is important to determine how much the company is earning each day. We can see if people are buying more goods on one day or another or if the earnings are similiar to each other."
      ]
    },
    {
      "cell_type": "markdown",
      "metadata": {
        "id": "b1jW2ZPcYPqx"
      },
      "source": [
        "Which item(s) have a Gluten allergy?\n",
        "\n"
      ]
    },
    {
      "cell_type": "code",
      "metadata": {
        "colab": {
          "base_uri": "https://localhost:8080/",
          "height": 116
        },
        "id": "6ijzT--MJAvH",
        "outputId": "4a46fba2-0b6f-43a5-8eac-33aabc724388"
      },
      "source": [
        "%%sql\n",
        "SELECT i.name,a.Type FROM Items i, Allergy a, AllergyInfo b WHERE a.AllergyID = b.AllergyID AND b.ItemID = i.ItemID AND a.Type = \"Gluten\";\n"
      ],
      "execution_count": null,
      "outputs": [
        {
          "output_type": "stream",
          "text": [
            " * sqlite:///baconry.db\n",
            "Done.\n"
          ],
          "name": "stdout"
        },
        {
          "output_type": "execute_result",
          "data": {
            "text/html": [
              "<table>\n",
              "    <tr>\n",
              "        <th>name</th>\n",
              "        <th>Type</th>\n",
              "    </tr>\n",
              "    <tr>\n",
              "        <td>Bacon Cupcakes</td>\n",
              "        <td>Gluten</td>\n",
              "    </tr>\n",
              "    <tr>\n",
              "        <td>Maple Bacon Doughnuts</td>\n",
              "        <td>Gluten</td>\n",
              "    </tr>\n",
              "</table>"
            ],
            "text/plain": [
              "[('Bacon Cupcakes', 'Gluten'), ('Maple Bacon Doughnuts', 'Gluten')]"
            ]
          },
          "metadata": {
            "tags": []
          },
          "execution_count": 6
        }
      ]
    },
    {
      "cell_type": "markdown",
      "metadata": {
        "id": "jtRXNcwud60f"
      },
      "source": [
        "This is important because we should be able to spot out certain food items that have specific types of allergies to warn customers. We can also use this information to see which items are picked the most and with what allergies to maximize profit to production."
      ]
    },
    {
      "cell_type": "markdown",
      "metadata": {
        "id": "gCP7rZfZYy85"
      },
      "source": [
        "How much have loyalty members spent on purchases?"
      ]
    },
    {
      "cell_type": "code",
      "metadata": {
        "colab": {
          "base_uri": "https://localhost:8080/",
          "height": 179
        },
        "id": "eDSjrfNHJBU4",
        "outputId": "408a90e4-cd5a-43ed-adfb-fd7f55ffc4be"
      },
      "source": [
        "%%sql\n",
        "SELECT SUM(p.TotalCost), l.FirstName, l.LastName FROM Purchases p, Loyalty l WHERE p.LoyaltyCard = l.CardID GROUP BY CardID"
      ],
      "execution_count": null,
      "outputs": [
        {
          "output_type": "stream",
          "text": [
            " * sqlite:///baconry.db\n",
            "Done.\n"
          ],
          "name": "stdout"
        },
        {
          "output_type": "execute_result",
          "data": {
            "text/html": [
              "<table>\n",
              "    <tr>\n",
              "        <th>SUM(p.TotalCost)</th>\n",
              "        <th>FirstName</th>\n",
              "        <th>LastName</th>\n",
              "    </tr>\n",
              "    <tr>\n",
              "        <td>15.5</td>\n",
              "        <td>Amy</td>\n",
              "        <td>Squarsom</td>\n",
              "    </tr>\n",
              "    <tr>\n",
              "        <td>7.25</td>\n",
              "        <td>Rodrick</td>\n",
              "        <td>Hamilton</td>\n",
              "    </tr>\n",
              "    <tr>\n",
              "        <td>13.75</td>\n",
              "        <td>Eric</td>\n",
              "        <td>Lorson</td>\n",
              "    </tr>\n",
              "    <tr>\n",
              "        <td>18.0</td>\n",
              "        <td>Ruby</td>\n",
              "        <td>Wort</td>\n",
              "    </tr>\n",
              "    <tr>\n",
              "        <td>19.25</td>\n",
              "        <td>Stephven</td>\n",
              "        <td>Derson</td>\n",
              "    </tr>\n",
              "</table>"
            ],
            "text/plain": [
              "[(15.5, 'Amy', 'Squarsom'),\n",
              " (7.25, 'Rodrick', 'Hamilton'),\n",
              " (13.75, 'Eric', 'Lorson'),\n",
              " (18.0, 'Ruby', 'Wort'),\n",
              " (19.25, 'Stephven', 'Derson')]"
            ]
          },
          "metadata": {
            "tags": []
          },
          "execution_count": 7
        }
      ]
    },
    {
      "cell_type": "markdown",
      "metadata": {
        "id": "ikwMHyFXkPbv"
      },
      "source": [
        "This is important to see which loyalty members are spending the most. We can use this information to then send coupons to customers that maybe arent buying as much as others."
      ]
    }
  ]
}