{
  "nbformat": 4,
  "nbformat_minor": 0,
  "metadata": {
    "colab": {
      "name": "GroupAssignment2.ipynb",
      "provenance": [],
      "collapsed_sections": [],
      "include_colab_link": true
    },
    "kernelspec": {
      "name": "python3",
      "display_name": "Python 3"
    }
  },
  "cells": [
    {
      "cell_type": "markdown",
      "metadata": {
        "id": "view-in-github",
        "colab_type": "text"
      },
      "source": [
        "<a href=\"https://colab.research.google.com/github/chadhardin/IST-210/blob/master/GroupAssignment2.ipynb\" target=\"_parent\"><img src=\"https://colab.research.google.com/assets/colab-badge.svg\" alt=\"Open In Colab\"/></a>"
      ]
    },
    {
      "cell_type": "markdown",
      "metadata": {
        "id": "7HYlQ0BJNHft"
      },
      "source": [
        "#Baconry Table"
      ]
    },
    {
      "cell_type": "markdown",
      "metadata": {
        "id": "DrNiHVfrKQZb"
      },
      "source": [
        "![Baconry Final Diagram](https://raw.githubusercontent.com/chadhardin/IST-210/master/GroupAssignment2/Baconry%20Final%20Diagram.png)"
      ]
    },
    {
      "cell_type": "markdown",
      "metadata": {
        "id": "9C9ozL-6KhHp"
      },
      "source": [
        "#Description\n",
        "This is a database for a store in a chain of stores called Baconry.  Our stores care about the customers by including a loyalty program not only this, but all the allergy info for safety reasons.  The connection between tables are in 1st normal form and I will talk about these connections next.  Loyalty is connected with purchases with discounts since those who hold a loyalty card can earn points by spending money at our stores.  Also, under the loyalty table there is a section for a customer to input their date of birth, we use this to give special deals on their birthday.  We had to include the table \"Items Purchased\" in between \"Purchases\" and \"Items\" to make sure there is no multi-value attribute, so we will have another table but keeps 1st normal form.  Each item has a price, amount, and name but connected to each itemID is the allergy information.  This was split into two tables to keep 1NF.  The menu has the items on it that the customers can order and also this allows the store to add new items to the menu at any time.  There is one menu for all the stores that is shared but is connected to each store id number.  The employee is connected to the store, since all this information is kept at the store it's important that the store number is included in this table.  The cardinality was specifically chosen with realistic numbers in mind, but even though they are realistic some customers would be able to order 50 items at one time.  "
      ]
    }
  ]
}